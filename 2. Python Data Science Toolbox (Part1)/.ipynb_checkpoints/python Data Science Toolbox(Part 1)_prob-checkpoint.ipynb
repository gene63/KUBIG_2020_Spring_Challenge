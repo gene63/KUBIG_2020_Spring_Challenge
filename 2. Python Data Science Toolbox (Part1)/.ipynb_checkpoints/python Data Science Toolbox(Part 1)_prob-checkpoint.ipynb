{
 "cells": [
  {
   "cell_type": "markdown",
   "metadata": {},
   "source": [
    "# Data Camp의 'python Data Science Toolbox(Part 1)' 챕터 내용을 토대로 제작"
   ]
  },
  {
   "cell_type": "markdown",
   "metadata": {},
   "source": [
    "※ 원하는 숫자들(num)과 정수 n을 입력하면 num 안의 수들을 1부터 n까지 곱해 그 결과를 반환해주는 함수를 만드려고 한다.<br>\n",
    "   함수를 만들 때의 조건은 다음과 같다.<br>\n",
    "∙ multiple 함수를 정의해 문제를 푼다.<br>\n",
    "∙ multiple 함수의 입력인자로는 tuple 형태인 num을 입력받는다.(num의 숫자 개수는 자유롭게!! * 이용)<br>\n",
    "∙ multiple 함수의 안에는 inner 함수 limit이 존재하고 이 함수는 n을 입력받는다.<br>\n",
    "∙ multiple 함수는 tuple num 안의 숫자들을 각각 1부터 n까지 곱한 결과를 반환한다."
   ]
  },
  {
   "cell_type": "code",
   "execution_count": 3,
   "metadata": {},
   "outputs": [
    {
     "name": "stdout",
     "output_type": "stream",
     "text": [
      "1 * 1 = 1  1 * 2 = 2  1 * 3 = 3  1 * 4 = 4  1 * 5 = 5  \n",
      "2 * 1 = 2  2 * 2 = 4  2 * 3 = 6  2 * 4 = 8  2 * 5 = 10  \n",
      "3 * 1 = 3  3 * 2 = 6  3 * 3 = 9  3 * 4 = 12  3 * 5 = 15  \n",
      "7 * 1 = 7  7 * 2 = 14  7 * 3 = 21  7 * 4 = 28  7 * 5 = 35  \n",
      "None\n"
     ]
    }
   ],
   "source": [
    "def multiple(*num):\n",
    "    \n",
    "    def limit(n):\n",
    "        for i in num:\n",
    "                for j in range(1,n+1):\n",
    "                    print('%d * %d = %d  '%(i,j,i*j), end='')\n",
    "                print()\n",
    "    return limit\n",
    "    \n",
    "hi = multiple(1,2,3,7)\n",
    "answer = hi(5)\n",
    "print(answer)"
   ]
  },
  {
   "cell_type": "markdown",
   "metadata": {},
   "source": [
    "※ lambda를 활용하여 list 형태인 nest안에 있는 수들을 모두 합치고 각 자리의 수들을 더하시오.<br>\n",
    "∙ lambda는 list nest 안에 있는 수들을 합칠 때만 사용하면 됨<br>\n",
    "∙ functools의 reduce 함수를 import해서 활용"
   ]
  },
  {
   "cell_type": "code",
   "execution_count": 8,
   "metadata": {},
   "outputs": [
    {
     "name": "stdout",
     "output_type": "stream",
     "text": [
      "28\n"
     ]
    }
   ],
   "source": [
    "from functools import reduce\n",
    "\n",
    "nest = ['28', '45', '1', '0', '8']\n",
    "result = reduce(lambda x, y:x+y,nest)\n",
    "final = 0\n",
    "for i in nest:\n",
    "    final += (sum(int(x) for x in str(i)))\n",
    "print(final)"
   ]
  },
  {
   "cell_type": "markdown",
   "metadata": {},
   "source": [
    "※ detecting function<br>\n",
    "\n",
    "∙ 술집에서 손님 중 미성년자를 거르는 함수를 만들고자 한다.<br>\n",
    "∙ 손님들의 정보는 total_visitor에 들어있다.<br>\n",
    "∙ 함수 이름은 'detecting'<br>"
   ]
  },
  {
   "cell_type": "code",
   "execution_count": 9,
   "metadata": {},
   "outputs": [],
   "source": [
    "total_visitor = '19971003','19671114','19990130','20060217','20200101','20040824'"
   ]
  },
  {
   "cell_type": "code",
   "execution_count": 13,
   "metadata": {},
   "outputs": [
    {
     "name": "stdout",
     "output_type": "stream",
     "text": [
      "['19971003', '19671114', '19990130']\n"
     ]
    }
   ],
   "source": [
    "def detecting(num):\n",
    "    allowed_visitor = filter(lambda visitor:int(visitor)<20010000 , total_visitor)\n",
    "    final_visitor = list(allowed_visitor)\n",
    "    print(final_visitor)\n",
    "    \n",
    "detecting(total_visitor)"
   ]
  },
  {
   "cell_type": "markdown",
   "metadata": {},
   "source": [
    "※ 숫자들의 표준편차를 구하는 함수(stddev)를 정의해보자<br>\n",
    "<br>\n",
    "∙ nested function<br>\n",
    "∙ 평균과 분산 및 표준편차를 출력하는 내장 함수를 사용하지 않고 정의하기 (stddev함수 내에는 평균과 분산을 구하는 inner function mean()과 variance()가 존재<br>\n",
    "∙ stddev에 들어가는 숫자의 개수는 자유롭게 (* 이용)<br>\n",
    "∙ 마지막 return 값은 math.sqrt를 이용(import math)"
   ]
  },
  {
   "cell_type": "code",
   "execution_count": 26,
   "metadata": {},
   "outputs": [
    {
     "name": "stdout",
     "output_type": "stream",
     "text": [
      "2.75\n",
      "1.479019945774904\n"
     ]
    }
   ],
   "source": [
    "import math\n",
    "import numpy as np\n",
    "\n",
    "def stddev(*num):\n",
    "    def mean():\n",
    "        return sum(num)/len(num)\n",
    "    def variance(m):         \n",
    "        return sum(((i-m)**2) for i in num)/len(num)\n",
    "    v = variance(mean())\n",
    "    print(mean())\n",
    "    return math.sqrt(v)"
   ]
  },
  {
   "cell_type": "code",
   "execution_count": null,
   "metadata": {},
   "outputs": [],
   "source": []
  }
 ],
 "metadata": {
  "kernelspec": {
   "display_name": "Python 3",
   "language": "python",
   "name": "python3"
  },
  "language_info": {
   "codemirror_mode": {
    "name": "ipython",
    "version": 3
   },
   "file_extension": ".py",
   "mimetype": "text/x-python",
   "name": "python",
   "nbconvert_exporter": "python",
   "pygments_lexer": "ipython3",
   "version": "3.8.0"
  }
 },
 "nbformat": 4,
 "nbformat_minor": 2
}
