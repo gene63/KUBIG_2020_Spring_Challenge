{
 "cells": [
  {
   "cell_type": "markdown",
   "metadata": {},
   "source": [
    "# Data Camp의 'python Data Science Toolbox(Part 2)' 챕터 내용을 토대로 제작"
   ]
  },
  {
   "cell_type": "markdown",
   "metadata": {},
   "source": [
    "※ 5명 학생의 수학과 영어 점수는 아래 문제의 값과 같다.ex) 1번째 학생 점수 수학:88, 영어:90<br>\n",
    "∙최종점수는 수학과 영어의 가중치를 각각 0.6과 0.4로 두고 계산한다.<br>\n",
    "∙zip을 활용하여 수학과 영어 점수를 합친 뒤, for 문을 활용해 최종점수 list를 구하여라.<br>\n",
    "∙그리고 최종점수가 75점 이상인 학생들을 고르려고 할 때, 몇 번째 학생들이 이에 해당되는지 구하여라."
   ]
  },
  {
   "cell_type": "code",
   "execution_count": 7,
   "metadata": {},
   "outputs": [
    {
     "name": "stdout",
     "output_type": "stream",
     "text": [
      "학생들의 최종점수: [88.8, 69.8, 74.19999999999999, 85.4, 71.4]\n",
      "75점이 넘은 학생들: [1, 4]\n"
     ]
    }
   ],
   "source": [
    "math = [88,65,67,93,75]\n",
    "english = [90,77,85,74,66]\n",
    "c = list(zip(math , english))\n",
    "result=[]\n",
    "num=[]\n",
    "for i in c:\n",
    "    result.append(i[0]*0.6+i[1]*0.4)\n",
    "print(\"학생들의 최종점수:\",result)\n",
    "for i in range(0,5):\n",
    "    if result[i] > 75:\n",
    "        num.append(i+1)\n",
    "print(\"75점이 넘은 학생들:\",num)"
   ]
  },
  {
   "cell_type": "markdown",
   "metadata": {},
   "source": [
    "※1부터 20까지의 수들 중 홀수는 세제곱, 짝수는 제곱을 한 값을 가지는 list형 num을 list comprehension을 통해 만들어라.<br>\n",
    "∙num_list를 입력 받고 num_list 안의 수들을 2로 나눈 몫이 짝수이면 그대로, 홀수이면 0으로 만드는 generator 함수 ulala를 정의해라.<br>\n",
    "∙num을 ulala에 대입해 그 결과값을 list로 표현하여라."
   ]
  },
  {
   "cell_type": "code",
   "execution_count": 25,
   "metadata": {},
   "outputs": [
    {
     "name": "stdout",
     "output_type": "stream",
     "text": [
      "not pass\n",
      "not pass\n",
      "not pass\n",
      "not pass\n",
      "not pass\n",
      "[1, 4, 0, 16, 125, 36, 0, 64, 729, 100, 0, 144, 2197, 196, 0, 256, 4913, 324, 0, 400]\n"
     ]
    }
   ],
   "source": [
    "num = [i**2 if i%2 == 0 else i**3 for i in range(1,21) ]\n",
    "def ulala(num_list):\n",
    "    li = num_list\n",
    "    for i in range(0,len(num_list)):\n",
    "        if (int(li[i]/2)%2)==0:\n",
    "            pass\n",
    "        else :\n",
    "            li[i] = 0\n",
    "    return li\n",
    "result = ulala(num)\n",
    "print(result)"
   ]
  },
  {
   "cell_type": "markdown",
   "metadata": {},
   "source": [
    "※ List Comprehension<br>\n",
    "∙ 1부터 1000까지의 정수 중에 3의 배수만 있는 리스트를 한 줄로 만드시오."
   ]
  },
  {
   "cell_type": "code",
   "execution_count": 26,
   "metadata": {},
   "outputs": [],
   "source": [
    "thirds = [i for i in range(1,1001) if i%3 == 0 ]"
   ]
  },
  {
   "cell_type": "code",
   "execution_count": 27,
   "metadata": {},
   "outputs": [
    {
     "name": "stdout",
     "output_type": "stream",
     "text": [
      "[3, 6, 9, 12, 15, 18, 21, 24, 27, 30, 33, 36, 39, 42, 45, 48, 51, 54, 57, 60, 63, 66, 69, 72, 75, 78, 81, 84, 87, 90, 93, 96, 99, 102, 105, 108, 111, 114, 117, 120, 123, 126, 129, 132, 135, 138, 141, 144, 147, 150, 153, 156, 159, 162, 165, 168, 171, 174, 177, 180, 183, 186, 189, 192, 195, 198, 201, 204, 207, 210, 213, 216, 219, 222, 225, 228, 231, 234, 237, 240, 243, 246, 249, 252, 255, 258, 261, 264, 267, 270, 273, 276, 279, 282, 285, 288, 291, 294, 297, 300, 303, 306, 309, 312, 315, 318, 321, 324, 327, 330, 333, 336, 339, 342, 345, 348, 351, 354, 357, 360, 363, 366, 369, 372, 375, 378, 381, 384, 387, 390, 393, 396, 399, 402, 405, 408, 411, 414, 417, 420, 423, 426, 429, 432, 435, 438, 441, 444, 447, 450, 453, 456, 459, 462, 465, 468, 471, 474, 477, 480, 483, 486, 489, 492, 495, 498, 501, 504, 507, 510, 513, 516, 519, 522, 525, 528, 531, 534, 537, 540, 543, 546, 549, 552, 555, 558, 561, 564, 567, 570, 573, 576, 579, 582, 585, 588, 591, 594, 597, 600, 603, 606, 609, 612, 615, 618, 621, 624, 627, 630, 633, 636, 639, 642, 645, 648, 651, 654, 657, 660, 663, 666, 669, 672, 675, 678, 681, 684, 687, 690, 693, 696, 699, 702, 705, 708, 711, 714, 717, 720, 723, 726, 729, 732, 735, 738, 741, 744, 747, 750, 753, 756, 759, 762, 765, 768, 771, 774, 777, 780, 783, 786, 789, 792, 795, 798, 801, 804, 807, 810, 813, 816, 819, 822, 825, 828, 831, 834, 837, 840, 843, 846, 849, 852, 855, 858, 861, 864, 867, 870, 873, 876, 879, 882, 885, 888, 891, 894, 897, 900, 903, 906, 909, 912, 915, 918, 921, 924, 927, 930, 933, 936, 939, 942, 945, 948, 951, 954, 957, 960, 963, 966, 969, 972, 975, 978, 981, 984, 987, 990, 993, 996, 999]\n"
     ]
    }
   ],
   "source": [
    "print(thirds)"
   ]
  },
  {
   "cell_type": "markdown",
   "metadata": {},
   "source": [
    "※ 1부터 9까지의 수 중 난수 8개로 구성된 리스트(a) 생성\n",
    "   생성된 숫자들을 오름차순으로 정렬하는 함수를 정의해보자.\n",
    "   \n",
    "∙ import random<br>\n",
    "∙ a = random.sample(range(1,20), 8)<br>\n",
    "∙ print(a)"
   ]
  },
  {
   "cell_type": "code",
   "execution_count": 28,
   "metadata": {},
   "outputs": [
    {
     "name": "stdout",
     "output_type": "stream",
     "text": [
      "[11, 12, 7, 9, 15, 5, 18, 19]\n"
     ]
    }
   ],
   "source": [
    "import random\n",
    "a = random.sample(range(1, 20), 8)\n",
    "print(a)"
   ]
  },
  {
   "cell_type": "code",
   "execution_count": 29,
   "metadata": {},
   "outputs": [],
   "source": [
    "def sorting(nums):\n",
    "    nums.sort()"
   ]
  },
  {
   "cell_type": "code",
   "execution_count": 30,
   "metadata": {},
   "outputs": [],
   "source": [
    "sorting(a)"
   ]
  },
  {
   "cell_type": "code",
   "execution_count": 31,
   "metadata": {},
   "outputs": [
    {
     "name": "stdout",
     "output_type": "stream",
     "text": [
      "[5, 7, 9, 11, 12, 15, 18, 19]\n"
     ]
    }
   ],
   "source": [
    "print(a)"
   ]
  },
  {
   "cell_type": "code",
   "execution_count": null,
   "metadata": {},
   "outputs": [],
   "source": []
  }
 ],
 "metadata": {
  "kernelspec": {
   "display_name": "Python 3",
   "language": "python",
   "name": "python3"
  },
  "language_info": {
   "codemirror_mode": {
    "name": "ipython",
    "version": 3
   },
   "file_extension": ".py",
   "mimetype": "text/x-python",
   "name": "python",
   "nbconvert_exporter": "python",
   "pygments_lexer": "ipython3",
   "version": "3.8.0"
  }
 },
 "nbformat": 4,
 "nbformat_minor": 2
}
